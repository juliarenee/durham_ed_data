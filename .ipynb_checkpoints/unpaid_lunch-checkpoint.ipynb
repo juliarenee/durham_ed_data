{
 "cells": [
  {
   "cell_type": "markdown",
   "metadata": {},
   "source": [
    "# School Lunch Debt in Durham, NC\n",
    "A longitudinal look at school lunch debt at public schools in Durham, North Carolina. Using data obtained from James Keaton, Durham Public Schools (DPS) director of child nutrition services as well as publicly available data collected annually by [DPS](http://www.ncpublicschools.org/fbs/resources/data/)."
   ]
  },
  {
   "cell_type": "markdown",
   "metadata": {},
   "source": [
    "### First, scrape additional data from DPS."
   ]
  },
  {
   "cell_type": "code",
   "execution_count": null,
   "metadata": {},
   "outputs": [],
   "source": [
    "library(rvest) # web scraping\n",
    "library(dplyr) # stay tidy\n",
    "library(xlsx) # read excel files\n",
    "\n",
    "# get free/reduced lunch data\n",
    "# directly tied to lunch debt\n",
    "# also proxy for SES\n",
    "\n",
    "html = read_html(\"http://www.ncpublicschools.org/fbs/resources/data/\") # read html\n",
    "lunch_debt = list() # initilize empty list\n",
    "file_names = html_nodes(xpath = '//*[@id=\"contentContainer\"]/div[3]/table[4]/tbody/tr/td[1]/ul/li[1]') %>%\n",
    "    html_attr(\"href\") # pull links\n",
    "\n",
    "\n",
    "\n",
    "# SCRAPE EVERYTHING UNDER id=meal_application"
   ]
  }
 ],
 "metadata": {
  "kernelspec": {
   "display_name": "R 3.3",
   "language": "R",
   "name": "ir33"
  },
  "language_info": {
   "name": ""
  }
 },
 "nbformat": 4,
 "nbformat_minor": 2
}

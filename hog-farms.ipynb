{
 "cells": [
  {
   "cell_type": "markdown",
   "metadata": {},
   "source": [
    "# Hog Farms and School Attendance\n",
    "Do students who live in closer proximity to hog farms miss more school than students elsewhere because of health issues?\n",
    "\n",
    "Some preliminary EDA using data from the North Carolina Department of Environmental Quality and North Carolina Department of Education. I'll be looking at the data by two measures. The first is school-to-farm proximity. The second is concentration of hog farms in school districts."
   ]
  },
  {
   "cell_type": "markdown",
   "metadata": {},
   "source": [
    "### Attendance and school-farm proximity"
   ]
  },
  {
   "cell_type": "code",
   "execution_count": 1,
   "metadata": {},
   "outputs": [
    {
     "name": "stderr",
     "output_type": "stream",
     "text": [
      "\n",
      "Attaching package: ‘dplyr’\n",
      "\n",
      "The following objects are masked from ‘package:stats’:\n",
      "\n",
      "    filter, lag\n",
      "\n",
      "The following objects are masked from ‘package:base’:\n",
      "\n",
      "    intersect, setdiff, setequal, union\n",
      "\n"
     ]
    }
   ],
   "source": [
    "### Load packages, datasets\n",
    "\n",
    "library(dplyr)\n",
    "library(ggplot2)\n",
    "\n",
    "setwd('./data')\n",
    "hogs = read.csv('animal-facilities.csv')\n",
    "ada = read.csv('nc-ada-15-17.csv', header = TRUE)\n",
    "loc = read.csv('sch-geo-dat.csv', header = TRUE)"
   ]
  },
  {
   "cell_type": "markdown",
   "metadata": {},
   "source": [
    "First step: Merge Average Daily Attendance (ADA) data with latitude and longitude data for NC public schools."
   ]
  },
  {
   "cell_type": "code",
   "execution_count": 2,
   "metadata": {},
   "outputs": [
    {
     "name": "stderr",
     "output_type": "stream",
     "text": [
      "Warning message:\n",
      "“Column `school.name`/`NAME` joining factors with different levels, coercing to character vector”"
     ]
    },
    {
     "data": {
      "text/html": [
       "<table>\n",
       "<thead><tr><th scope=col>no.match</th><th scope=col>matched</th></tr></thead>\n",
       "<tbody>\n",
       "\t<tr><td>11  </td><td>4738</td></tr>\n",
       "</tbody>\n",
       "</table>\n"
      ],
      "text/latex": [
       "\\begin{tabular}{r|ll}\n",
       " no.match & matched\\\\\n",
       "\\hline\n",
       "\t 11   & 4738\\\\\n",
       "\\end{tabular}\n"
      ],
      "text/markdown": [
       "\n",
       "no.match | matched | \n",
       "|---|\n",
       "| 11   | 4738 | \n",
       "\n",
       "\n"
      ],
      "text/plain": [
       "  no.match matched\n",
       "1 11       4738   "
      ]
     },
     "metadata": {},
     "output_type": "display_data"
    }
   ],
   "source": [
    "# Filter national location data to just North Carolina schools\n",
    "nc.loc = loc %>% filter(STATE == 'NC')\n",
    "\n",
    "# Merge location and ADA data by school name\n",
    "atd = left_join(ada, loc, by = c('school.name' = 'NAME')) # Use left_join here since we only care about schools in ADA dataset\n",
    "\n",
    "# See how many return no match\n",
    "atd %>% summarise(no.match = sum(is.na(CSA)), matched = sum(!is.na(CSA)))"
   ]
  },
  {
   "cell_type": "markdown",
   "metadata": {},
   "source": [
    "There are 11 public schools that weren't matched between the geographic data and the ADA data. Since we have 4738 matched schools, these 11 don't pose a huge issue. Let's continue with the EDA."
   ]
  },
  {
   "cell_type": "code",
   "execution_count": 3,
   "metadata": {},
   "outputs": [
    {
     "data": {
      "text/html": [
       "<ol class=list-inline>\n",
       "\t<li>'lea.num'</li>\n",
       "\t<li>'lea.name'</li>\n",
       "\t<li>'school.num'</li>\n",
       "\t<li>'school.name'</li>\n",
       "\t<li>'grade.span'</li>\n",
       "\t<li>'ada.1415'</li>\n",
       "\t<li>'adm.1415'</li>\n",
       "\t<li>'ratio.1415'</li>\n",
       "\t<li>'ada.1516'</li>\n",
       "\t<li>'adm.1516'</li>\n",
       "\t<li>'ratio.1516'</li>\n",
       "\t<li>'ada.1617'</li>\n",
       "\t<li>'adm.1617'</li>\n",
       "\t<li>'ratio.1617'</li>\n",
       "\t<li>'NCESSCH'</li>\n",
       "\t<li>'OPSTFIPS'</li>\n",
       "\t<li>'STREET'</li>\n",
       "\t<li>'CITY'</li>\n",
       "\t<li>'STATE'</li>\n",
       "\t<li>'ZIP'</li>\n",
       "\t<li>'STFIP'</li>\n",
       "\t<li>'CNTY'</li>\n",
       "\t<li>'NMCNTY'</li>\n",
       "\t<li>'LOCALE'</li>\n",
       "\t<li>'LAT'</li>\n",
       "\t<li>'LON'</li>\n",
       "\t<li>'CBSA'</li>\n",
       "\t<li>'NMCBSA'</li>\n",
       "\t<li>'CBSATYPE'</li>\n",
       "\t<li>'CSA'</li>\n",
       "\t<li>'NMCSA'</li>\n",
       "\t<li>'NECTA'</li>\n",
       "\t<li>'NMNECTA'</li>\n",
       "\t<li>'CD'</li>\n",
       "\t<li>'SLDL'</li>\n",
       "\t<li>'SLDU'</li>\n",
       "\t<li>'SURVYEAR'</li>\n",
       "</ol>\n"
      ],
      "text/latex": [
       "\\begin{enumerate*}\n",
       "\\item 'lea.num'\n",
       "\\item 'lea.name'\n",
       "\\item 'school.num'\n",
       "\\item 'school.name'\n",
       "\\item 'grade.span'\n",
       "\\item 'ada.1415'\n",
       "\\item 'adm.1415'\n",
       "\\item 'ratio.1415'\n",
       "\\item 'ada.1516'\n",
       "\\item 'adm.1516'\n",
       "\\item 'ratio.1516'\n",
       "\\item 'ada.1617'\n",
       "\\item 'adm.1617'\n",
       "\\item 'ratio.1617'\n",
       "\\item 'NCESSCH'\n",
       "\\item 'OPSTFIPS'\n",
       "\\item 'STREET'\n",
       "\\item 'CITY'\n",
       "\\item 'STATE'\n",
       "\\item 'ZIP'\n",
       "\\item 'STFIP'\n",
       "\\item 'CNTY'\n",
       "\\item 'NMCNTY'\n",
       "\\item 'LOCALE'\n",
       "\\item 'LAT'\n",
       "\\item 'LON'\n",
       "\\item 'CBSA'\n",
       "\\item 'NMCBSA'\n",
       "\\item 'CBSATYPE'\n",
       "\\item 'CSA'\n",
       "\\item 'NMCSA'\n",
       "\\item 'NECTA'\n",
       "\\item 'NMNECTA'\n",
       "\\item 'CD'\n",
       "\\item 'SLDL'\n",
       "\\item 'SLDU'\n",
       "\\item 'SURVYEAR'\n",
       "\\end{enumerate*}\n"
      ],
      "text/markdown": [
       "1. 'lea.num'\n",
       "2. 'lea.name'\n",
       "3. 'school.num'\n",
       "4. 'school.name'\n",
       "5. 'grade.span'\n",
       "6. 'ada.1415'\n",
       "7. 'adm.1415'\n",
       "8. 'ratio.1415'\n",
       "9. 'ada.1516'\n",
       "10. 'adm.1516'\n",
       "11. 'ratio.1516'\n",
       "12. 'ada.1617'\n",
       "13. 'adm.1617'\n",
       "14. 'ratio.1617'\n",
       "15. 'NCESSCH'\n",
       "16. 'OPSTFIPS'\n",
       "17. 'STREET'\n",
       "18. 'CITY'\n",
       "19. 'STATE'\n",
       "20. 'ZIP'\n",
       "21. 'STFIP'\n",
       "22. 'CNTY'\n",
       "23. 'NMCNTY'\n",
       "24. 'LOCALE'\n",
       "25. 'LAT'\n",
       "26. 'LON'\n",
       "27. 'CBSA'\n",
       "28. 'NMCBSA'\n",
       "29. 'CBSATYPE'\n",
       "30. 'CSA'\n",
       "31. 'NMCSA'\n",
       "32. 'NECTA'\n",
       "33. 'NMNECTA'\n",
       "34. 'CD'\n",
       "35. 'SLDL'\n",
       "36. 'SLDU'\n",
       "37. 'SURVYEAR'\n",
       "\n",
       "\n"
      ],
      "text/plain": [
       " [1] \"lea.num\"     \"lea.name\"    \"school.num\"  \"school.name\" \"grade.span\" \n",
       " [6] \"ada.1415\"    \"adm.1415\"    \"ratio.1415\"  \"ada.1516\"    \"adm.1516\"   \n",
       "[11] \"ratio.1516\"  \"ada.1617\"    \"adm.1617\"    \"ratio.1617\"  \"NCESSCH\"    \n",
       "[16] \"OPSTFIPS\"    \"STREET\"      \"CITY\"        \"STATE\"       \"ZIP\"        \n",
       "[21] \"STFIP\"       \"CNTY\"        \"NMCNTY\"      \"LOCALE\"      \"LAT\"        \n",
       "[26] \"LON\"         \"CBSA\"        \"NMCBSA\"      \"CBSATYPE\"    \"CSA\"        \n",
       "[31] \"NMCSA\"       \"NECTA\"       \"NMNECTA\"     \"CD\"          \"SLDL\"       \n",
       "[36] \"SLDU\"        \"SURVYEAR\"   "
      ]
     },
     "metadata": {},
     "output_type": "display_data"
    }
   ],
   "source": [
    "# Lets filter for only columns we need. This is a bit unruly.\n",
    "colnames(atd)"
   ]
  },
  {
   "cell_type": "code",
   "execution_count": 8,
   "metadata": {},
   "outputs": [],
   "source": [
    "# Selecting district, school names, grades, attendance and membership by years, as well as latitude and lognitude\n",
    "atd.trimmed = atd %>% select(lea.name, school.name, grade.span,\n",
    "                             ada.1415, adm.1415,\n",
    "                             ada.1516, adm.1516,\n",
    "                             ada.1617, adm.1617,\n",
    "                             LAT, LON)"
   ]
  },
  {
   "cell_type": "markdown",
   "metadata": {},
   "source": [
    "Now that we have ADA by school for the 2014-15, 2015-16 and 2016-17 academic years, we can measure the distance from schools to hog farms. Let's calculate a distance for each hog farm. But first, we need to cut down our farm database a bit."
   ]
  },
  {
   "cell_type": "code",
   "execution_count": 9,
   "metadata": {},
   "outputs": [
    {
     "data": {
      "text/html": [
       "<table>\n",
       "<thead><tr><th scope=col>Permit.Number</th><th scope=col>Facility.Name</th><th scope=col>Combined.Owner</th><th scope=col>Regulated.Operation</th><th scope=col>Permit.Type</th><th scope=col>Regulated.Activity</th><th scope=col>Allowable.Count</th><th scope=col>Number.Of.Lagoons</th><th scope=col>Issued.Date</th><th scope=col>Effective.Date</th><th scope=col>Expiration.Date</th><th scope=col>Admin.Region</th><th scope=col>County.Name</th><th scope=col>Location.Lat.Num</th><th scope=col>Location.Long.Num</th><th scope=col>Address.1</th><th scope=col>Address.2</th><th scope=col>City</th><th scope=col>State</th><th scope=col>Zip</th></tr></thead>\n",
       "<tbody>\n",
       "\t<tr><td>AWC010002                        </td><td>Piedmont L/S Co Farm             </td><td>Joe Jones                        </td><td>Cattle                           </td><td>Cattle State COC                 </td><td>Cattle - Beef Feeder             </td><td>300                              </td><td>0                                </td><td>10-01-2014                       </td><td>10-01-2014                       </td><td>09-30-2019                       </td><td>Winston-Salem                    </td><td>Alamance                         </td><td>36.1742                          </td><td>-79.4994                         </td><td>                                 </td><td>                                 </td><td>                                 </td><td>                                 </td><td>   NA                            </td></tr>\n",
       "\t<tr><td>AWC010002                        </td><td>Piedmont L/S Co Farm             </td><td>Joe Jones                        </td><td>Swine                            </td><td>Cattle State COC                 </td><td>Swine - Farrow to Wean           </td><td>300                              </td><td>0                                </td><td>10-01-2014                       </td><td>10-01-2014                       </td><td>09-30-2019                       </td><td>Winston-Salem                    </td><td>Alamance                         </td><td>36.1742                          </td><td>-79.4994                         </td><td>                                 </td><td>                                 </td><td>                                 </td><td>                                 </td><td>   NA                            </td></tr>\n",
       "\t<tr><td>AWC010006                        </td><td>Covington Dairy Farm Inc         </td><td>William Covington                </td><td>Cattle                           </td><td>Cattle State COC                 </td><td>Cattle - Milk Cow                </td><td>300                              </td><td>1                                </td><td>10-01-2014                       </td><td>10-01-2014                       </td><td>09-30-2019                       </td><td>Winston-Salem                    </td><td>Alamance                         </td><td>36.0442                          </td><td>-79.3261                         </td><td>3008 S Nc119                     </td><td>                                 </td><td>Mebane                           </td><td>NC                               </td><td>27302                            </td></tr>\n",
       "\t<tr><td>AWC010010                        </td><td>Triple W Farms                   </td><td>Harold Woody                     </td><td>Cattle                           </td><td>Cattle State COC                 </td><td>Cattle - Dairy Heifer            </td><td>200                              </td><td>1                                </td><td>03-11-2016                       </td><td>03-11-2016                       </td><td>09-30-2019                       </td><td>Winston-Salem                    </td><td>Alamance                         </td><td>35.9042                          </td><td>-79.3000                         </td><td>3545 E Greensboro-Chapel Hill Hwy</td><td>                                 </td><td>Snow Camp                        </td><td>NC                               </td><td>27349                            </td></tr>\n",
       "\t<tr><td>AWC010010                        </td><td>Triple W Farms                   </td><td>Harold Woody                     </td><td>Cattle                           </td><td>Cattle State COC                 </td><td>Cattle - Milk Cow                </td><td>400                              </td><td>1                                </td><td>03-11-2016                       </td><td>03-11-2016                       </td><td>09-30-2019                       </td><td>Winston-Salem                    </td><td>Alamance                         </td><td>35.9042                          </td><td>-79.3000                         </td><td>3545 E Greensboro-Chapel Hill Hwy</td><td>                                 </td><td>Snow Camp                        </td><td>NC                               </td><td>27349                            </td></tr>\n",
       "\t<tr><td>AWC010012                        </td><td>Lindley Dairy Inc. Farm          </td><td>W Lindley                        </td><td>Cattle                           </td><td>Cattle State COC                 </td><td>Cattle - Milk Cow                </td><td>225                              </td><td>1                                </td><td>10-01-2014                       </td><td>10-01-2014                       </td><td>09-30-2019                       </td><td>Winston-Salem                    </td><td>Alamance                         </td><td>35.8997                          </td><td>-79.3306                         </td><td>3159 E Greensboro Chapel Hill Rd </td><td>                                 </td><td>Snow Camp                        </td><td>NC                               </td><td>27349                            </td></tr>\n",
       "</tbody>\n",
       "</table>\n"
      ],
      "text/latex": [
       "\\begin{tabular}{r|llllllllllllllllllll}\n",
       " Permit.Number & Facility.Name & Combined.Owner & Regulated.Operation & Permit.Type & Regulated.Activity & Allowable.Count & Number.Of.Lagoons & Issued.Date & Effective.Date & Expiration.Date & Admin.Region & County.Name & Location.Lat.Num & Location.Long.Num & Address.1 & Address.2 & City & State & Zip\\\\\n",
       "\\hline\n",
       "\t AWC010002                         & Piedmont L/S Co Farm              & Joe Jones                         & Cattle                            & Cattle State COC                  & Cattle - Beef Feeder              & 300                               & 0                                 & 10-01-2014                        & 10-01-2014                        & 09-30-2019                        & Winston-Salem                     & Alamance                          & 36.1742                           & -79.4994                          &                                   &                                   &                                   &                                   &    NA                            \\\\\n",
       "\t AWC010002                         & Piedmont L/S Co Farm              & Joe Jones                         & Swine                             & Cattle State COC                  & Swine - Farrow to Wean            & 300                               & 0                                 & 10-01-2014                        & 10-01-2014                        & 09-30-2019                        & Winston-Salem                     & Alamance                          & 36.1742                           & -79.4994                          &                                   &                                   &                                   &                                   &    NA                            \\\\\n",
       "\t AWC010006                         & Covington Dairy Farm Inc          & William Covington                 & Cattle                            & Cattle State COC                  & Cattle - Milk Cow                 & 300                               & 1                                 & 10-01-2014                        & 10-01-2014                        & 09-30-2019                        & Winston-Salem                     & Alamance                          & 36.0442                           & -79.3261                          & 3008 S Nc119                      &                                   & Mebane                            & NC                                & 27302                            \\\\\n",
       "\t AWC010010                         & Triple W Farms                    & Harold Woody                      & Cattle                            & Cattle State COC                  & Cattle - Dairy Heifer             & 200                               & 1                                 & 03-11-2016                        & 03-11-2016                        & 09-30-2019                        & Winston-Salem                     & Alamance                          & 35.9042                           & -79.3000                          & 3545 E Greensboro-Chapel Hill Hwy &                                   & Snow Camp                         & NC                                & 27349                            \\\\\n",
       "\t AWC010010                         & Triple W Farms                    & Harold Woody                      & Cattle                            & Cattle State COC                  & Cattle - Milk Cow                 & 400                               & 1                                 & 03-11-2016                        & 03-11-2016                        & 09-30-2019                        & Winston-Salem                     & Alamance                          & 35.9042                           & -79.3000                          & 3545 E Greensboro-Chapel Hill Hwy &                                   & Snow Camp                         & NC                                & 27349                            \\\\\n",
       "\t AWC010012                         & Lindley Dairy Inc. Farm           & W Lindley                         & Cattle                            & Cattle State COC                  & Cattle - Milk Cow                 & 225                               & 1                                 & 10-01-2014                        & 10-01-2014                        & 09-30-2019                        & Winston-Salem                     & Alamance                          & 35.8997                           & -79.3306                          & 3159 E Greensboro Chapel Hill Rd  &                                   & Snow Camp                         & NC                                & 27349                            \\\\\n",
       "\\end{tabular}\n"
      ],
      "text/markdown": [
       "\n",
       "Permit.Number | Facility.Name | Combined.Owner | Regulated.Operation | Permit.Type | Regulated.Activity | Allowable.Count | Number.Of.Lagoons | Issued.Date | Effective.Date | Expiration.Date | Admin.Region | County.Name | Location.Lat.Num | Location.Long.Num | Address.1 | Address.2 | City | State | Zip | \n",
       "|---|---|---|---|---|---|\n",
       "| AWC010002                         | Piedmont L/S Co Farm              | Joe Jones                         | Cattle                            | Cattle State COC                  | Cattle - Beef Feeder              | 300                               | 0                                 | 10-01-2014                        | 10-01-2014                        | 09-30-2019                        | Winston-Salem                     | Alamance                          | 36.1742                           | -79.4994                          |                                   |                                   |                                   |                                   |    NA                             | \n",
       "| AWC010002                         | Piedmont L/S Co Farm              | Joe Jones                         | Swine                             | Cattle State COC                  | Swine - Farrow to Wean            | 300                               | 0                                 | 10-01-2014                        | 10-01-2014                        | 09-30-2019                        | Winston-Salem                     | Alamance                          | 36.1742                           | -79.4994                          |                                   |                                   |                                   |                                   |    NA                             | \n",
       "| AWC010006                         | Covington Dairy Farm Inc          | William Covington                 | Cattle                            | Cattle State COC                  | Cattle - Milk Cow                 | 300                               | 1                                 | 10-01-2014                        | 10-01-2014                        | 09-30-2019                        | Winston-Salem                     | Alamance                          | 36.0442                           | -79.3261                          | 3008 S Nc119                      |                                   | Mebane                            | NC                                | 27302                             | \n",
       "| AWC010010                         | Triple W Farms                    | Harold Woody                      | Cattle                            | Cattle State COC                  | Cattle - Dairy Heifer             | 200                               | 1                                 | 03-11-2016                        | 03-11-2016                        | 09-30-2019                        | Winston-Salem                     | Alamance                          | 35.9042                           | -79.3000                          | 3545 E Greensboro-Chapel Hill Hwy |                                   | Snow Camp                         | NC                                | 27349                             | \n",
       "| AWC010010                         | Triple W Farms                    | Harold Woody                      | Cattle                            | Cattle State COC                  | Cattle - Milk Cow                 | 400                               | 1                                 | 03-11-2016                        | 03-11-2016                        | 09-30-2019                        | Winston-Salem                     | Alamance                          | 35.9042                           | -79.3000                          | 3545 E Greensboro-Chapel Hill Hwy |                                   | Snow Camp                         | NC                                | 27349                             | \n",
       "| AWC010012                         | Lindley Dairy Inc. Farm           | W Lindley                         | Cattle                            | Cattle State COC                  | Cattle - Milk Cow                 | 225                               | 1                                 | 10-01-2014                        | 10-01-2014                        | 09-30-2019                        | Winston-Salem                     | Alamance                          | 35.8997                           | -79.3306                          | 3159 E Greensboro Chapel Hill Rd  |                                   | Snow Camp                         | NC                                | 27349                             | \n",
       "\n",
       "\n"
      ],
      "text/plain": [
       "  Permit.Number Facility.Name            Combined.Owner    Regulated.Operation\n",
       "1 AWC010002     Piedmont L/S Co Farm     Joe Jones         Cattle             \n",
       "2 AWC010002     Piedmont L/S Co Farm     Joe Jones         Swine              \n",
       "3 AWC010006     Covington Dairy Farm Inc William Covington Cattle             \n",
       "4 AWC010010     Triple W Farms           Harold Woody      Cattle             \n",
       "5 AWC010010     Triple W Farms           Harold Woody      Cattle             \n",
       "6 AWC010012     Lindley Dairy Inc. Farm  W Lindley         Cattle             \n",
       "  Permit.Type      Regulated.Activity     Allowable.Count Number.Of.Lagoons\n",
       "1 Cattle State COC Cattle - Beef Feeder   300             0                \n",
       "2 Cattle State COC Swine - Farrow to Wean 300             0                \n",
       "3 Cattle State COC Cattle - Milk Cow      300             1                \n",
       "4 Cattle State COC Cattle - Dairy Heifer  200             1                \n",
       "5 Cattle State COC Cattle - Milk Cow      400             1                \n",
       "6 Cattle State COC Cattle - Milk Cow      225             1                \n",
       "  Issued.Date Effective.Date Expiration.Date Admin.Region  County.Name\n",
       "1 10-01-2014  10-01-2014     09-30-2019      Winston-Salem Alamance   \n",
       "2 10-01-2014  10-01-2014     09-30-2019      Winston-Salem Alamance   \n",
       "3 10-01-2014  10-01-2014     09-30-2019      Winston-Salem Alamance   \n",
       "4 03-11-2016  03-11-2016     09-30-2019      Winston-Salem Alamance   \n",
       "5 03-11-2016  03-11-2016     09-30-2019      Winston-Salem Alamance   \n",
       "6 10-01-2014  10-01-2014     09-30-2019      Winston-Salem Alamance   \n",
       "  Location.Lat.Num Location.Long.Num Address.1                        \n",
       "1 36.1742          -79.4994                                           \n",
       "2 36.1742          -79.4994                                           \n",
       "3 36.0442          -79.3261          3008 S Nc119                     \n",
       "4 35.9042          -79.3000          3545 E Greensboro-Chapel Hill Hwy\n",
       "5 35.9042          -79.3000          3545 E Greensboro-Chapel Hill Hwy\n",
       "6 35.8997          -79.3306          3159 E Greensboro Chapel Hill Rd \n",
       "  Address.2 City      State Zip  \n",
       "1                              NA\n",
       "2                              NA\n",
       "3           Mebane    NC    27302\n",
       "4           Snow Camp NC    27349\n",
       "5           Snow Camp NC    27349\n",
       "6           Snow Camp NC    27349"
      ]
     },
     "metadata": {},
     "output_type": "display_data"
    }
   ],
   "source": [
    "head(hogs)"
   ]
  },
  {
   "cell_type": "code",
   "execution_count": 12,
   "metadata": {},
   "outputs": [
    {
     "data": {
      "text/html": [
       "<ol class=list-inline>\n",
       "\t<li>'Permit.Number'</li>\n",
       "\t<li>'Facility.Name'</li>\n",
       "\t<li>'Combined.Owner'</li>\n",
       "\t<li>'Regulated.Operation'</li>\n",
       "\t<li>'Permit.Type'</li>\n",
       "\t<li>'Regulated.Activity'</li>\n",
       "\t<li>'Allowable.Count'</li>\n",
       "\t<li>'Number.Of.Lagoons'</li>\n",
       "\t<li>'Issued.Date'</li>\n",
       "\t<li>'Effective.Date'</li>\n",
       "\t<li>'Expiration.Date'</li>\n",
       "\t<li>'Admin.Region'</li>\n",
       "\t<li>'County.Name'</li>\n",
       "\t<li>'Location.Lat.Num'</li>\n",
       "\t<li>'Location.Long.Num'</li>\n",
       "\t<li>'Address.1'</li>\n",
       "\t<li>'Address.2'</li>\n",
       "\t<li>'City'</li>\n",
       "\t<li>'State'</li>\n",
       "\t<li>'Zip'</li>\n",
       "</ol>\n"
      ],
      "text/latex": [
       "\\begin{enumerate*}\n",
       "\\item 'Permit.Number'\n",
       "\\item 'Facility.Name'\n",
       "\\item 'Combined.Owner'\n",
       "\\item 'Regulated.Operation'\n",
       "\\item 'Permit.Type'\n",
       "\\item 'Regulated.Activity'\n",
       "\\item 'Allowable.Count'\n",
       "\\item 'Number.Of.Lagoons'\n",
       "\\item 'Issued.Date'\n",
       "\\item 'Effective.Date'\n",
       "\\item 'Expiration.Date'\n",
       "\\item 'Admin.Region'\n",
       "\\item 'County.Name'\n",
       "\\item 'Location.Lat.Num'\n",
       "\\item 'Location.Long.Num'\n",
       "\\item 'Address.1'\n",
       "\\item 'Address.2'\n",
       "\\item 'City'\n",
       "\\item 'State'\n",
       "\\item 'Zip'\n",
       "\\end{enumerate*}\n"
      ],
      "text/markdown": [
       "1. 'Permit.Number'\n",
       "2. 'Facility.Name'\n",
       "3. 'Combined.Owner'\n",
       "4. 'Regulated.Operation'\n",
       "5. 'Permit.Type'\n",
       "6. 'Regulated.Activity'\n",
       "7. 'Allowable.Count'\n",
       "8. 'Number.Of.Lagoons'\n",
       "9. 'Issued.Date'\n",
       "10. 'Effective.Date'\n",
       "11. 'Expiration.Date'\n",
       "12. 'Admin.Region'\n",
       "13. 'County.Name'\n",
       "14. 'Location.Lat.Num'\n",
       "15. 'Location.Long.Num'\n",
       "16. 'Address.1'\n",
       "17. 'Address.2'\n",
       "18. 'City'\n",
       "19. 'State'\n",
       "20. 'Zip'\n",
       "\n",
       "\n"
      ],
      "text/plain": [
       " [1] \"Permit.Number\"       \"Facility.Name\"       \"Combined.Owner\"     \n",
       " [4] \"Regulated.Operation\" \"Permit.Type\"         \"Regulated.Activity\" \n",
       " [7] \"Allowable.Count\"     \"Number.Of.Lagoons\"   \"Issued.Date\"        \n",
       "[10] \"Effective.Date\"      \"Expiration.Date\"     \"Admin.Region\"       \n",
       "[13] \"County.Name\"         \"Location.Lat.Num\"    \"Location.Long.Num\"  \n",
       "[16] \"Address.1\"           \"Address.2\"           \"City\"               \n",
       "[19] \"State\"               \"Zip\"                "
      ]
     },
     "metadata": {},
     "output_type": "display_data"
    }
   ],
   "source": [
    "# Filter for only hog farms\n",
    "hogs = hogs %>% filter(Regulated.Operation == 'Swine')\n",
    "\n",
    "# Now let's see what data we're working with\n",
    "colnames(hogs)"
   ]
  },
  {
   "cell_type": "code",
   "execution_count": null,
   "metadata": {},
   "outputs": [],
   "source": [
    "# Need to make a matrix of schools and hog farms\n",
    "# Calculate distance between each\n",
    "# Add up values\n",
    "# But also control for ridiculously long distances, need a min values "
   ]
  }
 ],
 "metadata": {
  "kernelspec": {
   "display_name": "R 3.3",
   "language": "R",
   "name": "ir33"
  },
  "language_info": {
   "codemirror_mode": "r",
   "file_extension": ".r",
   "mimetype": "text/x-r-source",
   "name": "R",
   "pygments_lexer": "r",
   "version": "3.3.2"
  }
 },
 "nbformat": 4,
 "nbformat_minor": 2
}

{
 "cells": [
  {
   "cell_type": "markdown",
   "metadata": {},
   "source": [
    "### Hog Farms and School Attendance\n",
    "Do students who live in closer proximity to hog farms miss more school than students elsewhere because of health issues?\n",
    "\n",
    "Some preliminary EDA using data from the North Carolina Department of Environmental Quality and North Carolina Department of Education."
   ]
  },
  {
   "cell_type": "code",
   "execution_count": 7,
   "metadata": {},
   "outputs": [
    {
     "ename": "ERROR",
     "evalue": "Error in setwd(\"./data\"): cannot change working directory\n",
     "execution_count": 7,
     "output_type": "error",
     "traceback": [
      "Error in setwd(\"./data\"): cannot change working directory\nTraceback:\n",
      "1. setwd(\"./data\")"
     ]
    }
   ],
   "source": [
    "### Load packages, datasets\n",
    "\n",
    "library(dplyr)\n",
    "library(ggplot2)\n",
    "\n",
    "setwd('./data')\n",
    "hogs = read.csv('animal-facilities.csv')\n",
    "ada = read.csv('nc-ada-15-17.csv', header = TRUE)\n",
    "loc = read.csv('sch-geo-dat.csv', header = TRUE)"
   ]
  },
  {
   "cell_type": "markdown",
   "metadata": {},
   "source": [
    "First step: Merge Average Daily Attendance (ADA) data with latitude and longitude data for NC public schools."
   ]
  },
  {
   "cell_type": "code",
   "execution_count": 8,
   "metadata": {},
   "outputs": [
    {
     "data": {
      "text/html": [
       "<table>\n",
       "<thead><tr><th scope=col>LEA</th><th scope=col>LEA.1</th><th scope=col>School</th><th scope=col>School.1</th><th scope=col>Grade</th><th scope=col>X</th><th scope=col>X2014.2015</th><th scope=col>X.1</th><th scope=col>X.2</th><th scope=col>X.3</th><th scope=col>X2015.2016</th><th scope=col>X.4</th><th scope=col>X.5</th><th scope=col>X.6</th><th scope=col>X2016.2017</th><th scope=col>X.7</th><th scope=col>X.8</th><th scope=col>X.9</th><th scope=col>X3.YEAR</th><th scope=col>X.10</th></tr></thead>\n",
       "<tbody>\n",
       "\t<tr><td>Number                                  </td><td>Name                                    </td><td>Number                                  </td><td>Name                                    </td><td>Span                                    </td><td>NA                                      </td><td>ADA                                     </td><td>ADM                                     </td><td>RATIO                                   </td><td>NA                                      </td><td>ADA                                     </td><td>ADM                                     </td><td>RATIO                                   </td><td>NA                                      </td><td>ADA                                     </td><td>ADM                                     </td><td>RATIO                                   </td><td>NA                                      </td><td>RATIO                                   </td><td>RANK                                    </td></tr>\n",
       "\t<tr><td>010                                     </td><td>Alamance-Burlington Schools             </td><td>303                                     </td><td>Alamance-Burlington Middle/Early College</td><td>09-12                                   </td><td>NA                                      </td><td>76                                      </td><td>79                                      </td><td>96.20                                   </td><td>NA                                      </td><td>107                                     </td><td>108                                     </td><td>99.07                                   </td><td>NA                                      </td><td>151                                     </td><td>152                                     </td><td>99.34                                   </td><td>NA                                      </td><td>98.53                                   </td><td>45                                      </td></tr>\n",
       "\t<tr><td>010                                     </td><td>Alamance-Burlington Schools             </td><td>304                                     </td><td>Alexander Wilson Elementary             </td><td>PK-05                                   </td><td>NA                                      </td><td>505                                     </td><td>528                                     </td><td>95.64                                   </td><td>NA                                      </td><td>541                                     </td><td>565                                     </td><td>95.75                                   </td><td>NA                                      </td><td>548                                     </td><td>575                                     </td><td>95.30                                   </td><td>NA                                      </td><td>95.56                                   </td><td>864                                     </td></tr>\n",
       "\t<tr><td>010                                     </td><td>Alamance-Burlington Schools             </td><td>308                                     </td><td>Altamahaw Ossipee Elem                  </td><td>0K-05                                   </td><td>NA                                      </td><td>528                                     </td><td>554                                     </td><td>95.31                                   </td><td>NA                                      </td><td>532                                     </td><td>557                                     </td><td>95.51                                   </td><td>NA                                      </td><td>579                                     </td><td>611                                     </td><td>94.76                                   </td><td>NA                                      </td><td>95.18                                   </td><td>1,205                                   </td></tr>\n",
       "\t<tr><td>010                                     </td><td>Alamance-Burlington Schools             </td><td>310                                     </td><td>Broadview Middle                        </td><td>06-08                                   </td><td>NA                                      </td><td>770                                     </td><td>820                                     </td><td>93.90                                   </td><td>NA                                      </td><td>735                                     </td><td>787                                     </td><td>93.39                                   </td><td>NA                                      </td><td>689                                     </td><td>742                                     </td><td>92.86                                   </td><td>NA                                      </td><td>93.40                                   </td><td>2,124                                   </td></tr>\n",
       "\t<tr><td>010                                     </td><td>Alamance-Burlington Schools             </td><td>312                                     </td><td>Highland Elementary                     </td><td>0K-05                                   </td><td>NA                                      </td><td>626                                     </td><td>654                                     </td><td>95.72                                   </td><td>NA                                      </td><td>637                                     </td><td>669                                     </td><td>95.22                                   </td><td>NA                                      </td><td>663                                     </td><td>701                                     </td><td>94.58                                   </td><td>NA                                      </td><td>95.16                                   </td><td>1,227                                   </td></tr>\n",
       "</tbody>\n",
       "</table>\n"
      ],
      "text/latex": [
       "\\begin{tabular}{r|llllllllllllllllllll}\n",
       " LEA & LEA.1 & School & School.1 & Grade & X & X2014.2015 & X.1 & X.2 & X.3 & X2015.2016 & X.4 & X.5 & X.6 & X2016.2017 & X.7 & X.8 & X.9 & X3.YEAR & X.10\\\\\n",
       "\\hline\n",
       "\t Number                                   & Name                                     & Number                                   & Name                                     & Span                                     & NA                                       & ADA                                      & ADM                                      & RATIO                                    & NA                                       & ADA                                      & ADM                                      & RATIO                                    & NA                                       & ADA                                      & ADM                                      & RATIO                                    & NA                                       & RATIO                                    & RANK                                    \\\\\n",
       "\t 010                                      & Alamance-Burlington Schools              & 303                                      & Alamance-Burlington Middle/Early College & 09-12                                    & NA                                       & 76                                       & 79                                       & 96.20                                    & NA                                       & 107                                      & 108                                      & 99.07                                    & NA                                       & 151                                      & 152                                      & 99.34                                    & NA                                       & 98.53                                    & 45                                      \\\\\n",
       "\t 010                                      & Alamance-Burlington Schools              & 304                                      & Alexander Wilson Elementary              & PK-05                                    & NA                                       & 505                                      & 528                                      & 95.64                                    & NA                                       & 541                                      & 565                                      & 95.75                                    & NA                                       & 548                                      & 575                                      & 95.30                                    & NA                                       & 95.56                                    & 864                                     \\\\\n",
       "\t 010                                      & Alamance-Burlington Schools              & 308                                      & Altamahaw Ossipee Elem                   & 0K-05                                    & NA                                       & 528                                      & 554                                      & 95.31                                    & NA                                       & 532                                      & 557                                      & 95.51                                    & NA                                       & 579                                      & 611                                      & 94.76                                    & NA                                       & 95.18                                    & 1,205                                   \\\\\n",
       "\t 010                                      & Alamance-Burlington Schools              & 310                                      & Broadview Middle                         & 06-08                                    & NA                                       & 770                                      & 820                                      & 93.90                                    & NA                                       & 735                                      & 787                                      & 93.39                                    & NA                                       & 689                                      & 742                                      & 92.86                                    & NA                                       & 93.40                                    & 2,124                                   \\\\\n",
       "\t 010                                      & Alamance-Burlington Schools              & 312                                      & Highland Elementary                      & 0K-05                                    & NA                                       & 626                                      & 654                                      & 95.72                                    & NA                                       & 637                                      & 669                                      & 95.22                                    & NA                                       & 663                                      & 701                                      & 94.58                                    & NA                                       & 95.16                                    & 1,227                                   \\\\\n",
       "\\end{tabular}\n"
      ],
      "text/markdown": [
       "\n",
       "LEA | LEA.1 | School | School.1 | Grade | X | X2014.2015 | X.1 | X.2 | X.3 | X2015.2016 | X.4 | X.5 | X.6 | X2016.2017 | X.7 | X.8 | X.9 | X3.YEAR | X.10 | \n",
       "|---|---|---|---|---|---|\n",
       "| Number                                   | Name                                     | Number                                   | Name                                     | Span                                     | NA                                       | ADA                                      | ADM                                      | RATIO                                    | NA                                       | ADA                                      | ADM                                      | RATIO                                    | NA                                       | ADA                                      | ADM                                      | RATIO                                    | NA                                       | RATIO                                    | RANK                                     | \n",
       "| 010                                      | Alamance-Burlington Schools              | 303                                      | Alamance-Burlington Middle/Early College | 09-12                                    | NA                                       | 76                                       | 79                                       | 96.20                                    | NA                                       | 107                                      | 108                                      | 99.07                                    | NA                                       | 151                                      | 152                                      | 99.34                                    | NA                                       | 98.53                                    | 45                                       | \n",
       "| 010                                      | Alamance-Burlington Schools              | 304                                      | Alexander Wilson Elementary              | PK-05                                    | NA                                       | 505                                      | 528                                      | 95.64                                    | NA                                       | 541                                      | 565                                      | 95.75                                    | NA                                       | 548                                      | 575                                      | 95.30                                    | NA                                       | 95.56                                    | 864                                      | \n",
       "| 010                                      | Alamance-Burlington Schools              | 308                                      | Altamahaw Ossipee Elem                   | 0K-05                                    | NA                                       | 528                                      | 554                                      | 95.31                                    | NA                                       | 532                                      | 557                                      | 95.51                                    | NA                                       | 579                                      | 611                                      | 94.76                                    | NA                                       | 95.18                                    | 1,205                                    | \n",
       "| 010                                      | Alamance-Burlington Schools              | 310                                      | Broadview Middle                         | 06-08                                    | NA                                       | 770                                      | 820                                      | 93.90                                    | NA                                       | 735                                      | 787                                      | 93.39                                    | NA                                       | 689                                      | 742                                      | 92.86                                    | NA                                       | 93.40                                    | 2,124                                    | \n",
       "| 010                                      | Alamance-Burlington Schools              | 312                                      | Highland Elementary                      | 0K-05                                    | NA                                       | 626                                      | 654                                      | 95.72                                    | NA                                       | 637                                      | 669                                      | 95.22                                    | NA                                       | 663                                      | 701                                      | 94.58                                    | NA                                       | 95.16                                    | 1,227                                    | \n",
       "\n",
       "\n"
      ],
      "text/plain": [
       "  LEA     LEA.1                       School\n",
       "1 Number  Name                        Number\n",
       "2 010     Alamance-Burlington Schools 303   \n",
       "3 010     Alamance-Burlington Schools 304   \n",
       "4 010     Alamance-Burlington Schools 308   \n",
       "5 010     Alamance-Burlington Schools 310   \n",
       "6 010     Alamance-Burlington Schools 312   \n",
       "  School.1                                 Grade X  X2014.2015 X.1 X.2   X.3\n",
       "1 Name                                     Span  NA ADA        ADM RATIO NA \n",
       "2 Alamance-Burlington Middle/Early College 09-12 NA 76         79  96.20 NA \n",
       "3 Alexander Wilson Elementary              PK-05 NA 505        528 95.64 NA \n",
       "4 Altamahaw Ossipee Elem                   0K-05 NA 528        554 95.31 NA \n",
       "5 Broadview Middle                         06-08 NA 770        820 93.90 NA \n",
       "6 Highland Elementary                      0K-05 NA 626        654 95.72 NA \n",
       "  X2015.2016 X.4 X.5   X.6 X2016.2017 X.7 X.8   X.9 X3.YEAR X.10 \n",
       "1 ADA        ADM RATIO NA  ADA        ADM RATIO NA  RATIO   RANK \n",
       "2 107        108 99.07 NA  151        152 99.34 NA  98.53   45   \n",
       "3 541        565 95.75 NA  548        575 95.30 NA  95.56   864  \n",
       "4 532        557 95.51 NA  579        611 94.76 NA  95.18   1,205\n",
       "5 735        787 93.39 NA  689        742 92.86 NA  93.40   2,124\n",
       "6 637        669 95.22 NA  663        701 94.58 NA  95.16   1,227"
      ]
     },
     "metadata": {},
     "output_type": "display_data"
    }
   ],
   "source": [
    "head(ada)"
   ]
  }
 ],
 "metadata": {
  "kernelspec": {
   "display_name": "R 3.3",
   "language": "R",
   "name": "ir33"
  },
  "language_info": {
   "codemirror_mode": "r",
   "file_extension": ".r",
   "mimetype": "text/x-r-source",
   "name": "R",
   "pygments_lexer": "r",
   "version": "3.3.2"
  }
 },
 "nbformat": 4,
 "nbformat_minor": 2
}

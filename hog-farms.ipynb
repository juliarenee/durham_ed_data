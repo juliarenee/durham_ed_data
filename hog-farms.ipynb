{
 "cells": [
  {
   "cell_type": "markdown",
   "metadata": {},
   "source": [
    "### Hog Farms and School Attendance\n",
    "Do students who live in closer proximity to hog farms miss more school than students elsewhere because of health issues?\n",
    "\n",
    "Some preliminary EDA using data from the North Carolina Department of Environmental Quality and North Carolina Department of Education."
   ]
  },
  {
   "cell_type": "code",
   "execution_count": 4,
   "metadata": {},
   "outputs": [
    {
     "ename": "ERROR",
     "evalue": "Error in setwd(\"./data\"): cannot change working directory\n",
     "execution_count": 4,
     "output_type": "error",
     "traceback": [
      "Error in setwd(\"./data\"): cannot change working directory\nTraceback:\n",
      "1. setwd(\"./data\")"
     ]
    }
   ],
   "source": [
    "### Load packages, datasets\n",
    "\n",
    "library(dplyr)\n",
    "library(ggplot2)\n",
    "\n",
    "setwd('./data')\n",
    "hogs = read.csv('animal-facilities.csv')\n",
    "ada = read.csv('nc-ada-15-17.csv')\n",
    "loc = read.csv('sch-geo-dat.csv')"
   ]
  },
  {
   "cell_type": "code",
   "execution_count": 5,
   "metadata": {},
   "outputs": [
    {
     "data": {
      "text/html": [
       "<table>\n",
       "<thead><tr><th scope=col>Permit.Number</th><th scope=col>Facility.Name</th><th scope=col>Combined.Owner</th><th scope=col>Regulated.Operation</th><th scope=col>Permit.Type</th><th scope=col>Regulated.Activity</th><th scope=col>Allowable.Count</th><th scope=col>Number.Of.Lagoons</th><th scope=col>Issued.Date</th><th scope=col>Effective.Date</th><th scope=col>Expiration.Date</th><th scope=col>Admin.Region</th><th scope=col>County.Name</th><th scope=col>Location.Lat.Num</th><th scope=col>Location.Long.Num</th><th scope=col>Address.1</th><th scope=col>Address.2</th><th scope=col>City</th><th scope=col>State</th><th scope=col>Zip</th></tr></thead>\n",
       "<tbody>\n",
       "\t<tr><td>AWC010002                        </td><td>Piedmont L/S Co Farm             </td><td>Joe Jones                        </td><td>Cattle                           </td><td>Cattle State COC                 </td><td>Cattle - Beef Feeder             </td><td>300                              </td><td>0                                </td><td>10-01-2014                       </td><td>10-01-2014                       </td><td>09-30-2019                       </td><td>Winston-Salem                    </td><td>Alamance                         </td><td>36.1742                          </td><td>-79.4994                         </td><td>                                 </td><td>                                 </td><td>                                 </td><td>                                 </td><td>   NA                            </td></tr>\n",
       "\t<tr><td>AWC010002                        </td><td>Piedmont L/S Co Farm             </td><td>Joe Jones                        </td><td>Swine                            </td><td>Cattle State COC                 </td><td>Swine - Farrow to Wean           </td><td>300                              </td><td>0                                </td><td>10-01-2014                       </td><td>10-01-2014                       </td><td>09-30-2019                       </td><td>Winston-Salem                    </td><td>Alamance                         </td><td>36.1742                          </td><td>-79.4994                         </td><td>                                 </td><td>                                 </td><td>                                 </td><td>                                 </td><td>   NA                            </td></tr>\n",
       "\t<tr><td>AWC010006                        </td><td>Covington Dairy Farm Inc         </td><td>William Covington                </td><td>Cattle                           </td><td>Cattle State COC                 </td><td>Cattle - Milk Cow                </td><td>300                              </td><td>1                                </td><td>10-01-2014                       </td><td>10-01-2014                       </td><td>09-30-2019                       </td><td>Winston-Salem                    </td><td>Alamance                         </td><td>36.0442                          </td><td>-79.3261                         </td><td>3008 S Nc119                     </td><td>                                 </td><td>Mebane                           </td><td>NC                               </td><td>27302                            </td></tr>\n",
       "\t<tr><td>AWC010010                        </td><td>Triple W Farms                   </td><td>Harold Woody                     </td><td>Cattle                           </td><td>Cattle State COC                 </td><td>Cattle - Dairy Heifer            </td><td>200                              </td><td>1                                </td><td>03-11-2016                       </td><td>03-11-2016                       </td><td>09-30-2019                       </td><td>Winston-Salem                    </td><td>Alamance                         </td><td>35.9042                          </td><td>-79.3000                         </td><td>3545 E Greensboro-Chapel Hill Hwy</td><td>                                 </td><td>Snow Camp                        </td><td>NC                               </td><td>27349                            </td></tr>\n",
       "\t<tr><td>AWC010010                        </td><td>Triple W Farms                   </td><td>Harold Woody                     </td><td>Cattle                           </td><td>Cattle State COC                 </td><td>Cattle - Milk Cow                </td><td>400                              </td><td>1                                </td><td>03-11-2016                       </td><td>03-11-2016                       </td><td>09-30-2019                       </td><td>Winston-Salem                    </td><td>Alamance                         </td><td>35.9042                          </td><td>-79.3000                         </td><td>3545 E Greensboro-Chapel Hill Hwy</td><td>                                 </td><td>Snow Camp                        </td><td>NC                               </td><td>27349                            </td></tr>\n",
       "\t<tr><td>AWC010012                        </td><td>Lindley Dairy Inc. Farm          </td><td>W Lindley                        </td><td>Cattle                           </td><td>Cattle State COC                 </td><td>Cattle - Milk Cow                </td><td>225                              </td><td>1                                </td><td>10-01-2014                       </td><td>10-01-2014                       </td><td>09-30-2019                       </td><td>Winston-Salem                    </td><td>Alamance                         </td><td>35.8997                          </td><td>-79.3306                         </td><td>3159 E Greensboro Chapel Hill Rd </td><td>                                 </td><td>Snow Camp                        </td><td>NC                               </td><td>27349                            </td></tr>\n",
       "</tbody>\n",
       "</table>\n"
      ],
      "text/latex": [
       "\\begin{tabular}{r|llllllllllllllllllll}\n",
       " Permit.Number & Facility.Name & Combined.Owner & Regulated.Operation & Permit.Type & Regulated.Activity & Allowable.Count & Number.Of.Lagoons & Issued.Date & Effective.Date & Expiration.Date & Admin.Region & County.Name & Location.Lat.Num & Location.Long.Num & Address.1 & Address.2 & City & State & Zip\\\\\n",
       "\\hline\n",
       "\t AWC010002                         & Piedmont L/S Co Farm              & Joe Jones                         & Cattle                            & Cattle State COC                  & Cattle - Beef Feeder              & 300                               & 0                                 & 10-01-2014                        & 10-01-2014                        & 09-30-2019                        & Winston-Salem                     & Alamance                          & 36.1742                           & -79.4994                          &                                   &                                   &                                   &                                   &    NA                            \\\\\n",
       "\t AWC010002                         & Piedmont L/S Co Farm              & Joe Jones                         & Swine                             & Cattle State COC                  & Swine - Farrow to Wean            & 300                               & 0                                 & 10-01-2014                        & 10-01-2014                        & 09-30-2019                        & Winston-Salem                     & Alamance                          & 36.1742                           & -79.4994                          &                                   &                                   &                                   &                                   &    NA                            \\\\\n",
       "\t AWC010006                         & Covington Dairy Farm Inc          & William Covington                 & Cattle                            & Cattle State COC                  & Cattle - Milk Cow                 & 300                               & 1                                 & 10-01-2014                        & 10-01-2014                        & 09-30-2019                        & Winston-Salem                     & Alamance                          & 36.0442                           & -79.3261                          & 3008 S Nc119                      &                                   & Mebane                            & NC                                & 27302                            \\\\\n",
       "\t AWC010010                         & Triple W Farms                    & Harold Woody                      & Cattle                            & Cattle State COC                  & Cattle - Dairy Heifer             & 200                               & 1                                 & 03-11-2016                        & 03-11-2016                        & 09-30-2019                        & Winston-Salem                     & Alamance                          & 35.9042                           & -79.3000                          & 3545 E Greensboro-Chapel Hill Hwy &                                   & Snow Camp                         & NC                                & 27349                            \\\\\n",
       "\t AWC010010                         & Triple W Farms                    & Harold Woody                      & Cattle                            & Cattle State COC                  & Cattle - Milk Cow                 & 400                               & 1                                 & 03-11-2016                        & 03-11-2016                        & 09-30-2019                        & Winston-Salem                     & Alamance                          & 35.9042                           & -79.3000                          & 3545 E Greensboro-Chapel Hill Hwy &                                   & Snow Camp                         & NC                                & 27349                            \\\\\n",
       "\t AWC010012                         & Lindley Dairy Inc. Farm           & W Lindley                         & Cattle                            & Cattle State COC                  & Cattle - Milk Cow                 & 225                               & 1                                 & 10-01-2014                        & 10-01-2014                        & 09-30-2019                        & Winston-Salem                     & Alamance                          & 35.8997                           & -79.3306                          & 3159 E Greensboro Chapel Hill Rd  &                                   & Snow Camp                         & NC                                & 27349                            \\\\\n",
       "\\end{tabular}\n"
      ],
      "text/markdown": [
       "\n",
       "Permit.Number | Facility.Name | Combined.Owner | Regulated.Operation | Permit.Type | Regulated.Activity | Allowable.Count | Number.Of.Lagoons | Issued.Date | Effective.Date | Expiration.Date | Admin.Region | County.Name | Location.Lat.Num | Location.Long.Num | Address.1 | Address.2 | City | State | Zip | \n",
       "|---|---|---|---|---|---|\n",
       "| AWC010002                         | Piedmont L/S Co Farm              | Joe Jones                         | Cattle                            | Cattle State COC                  | Cattle - Beef Feeder              | 300                               | 0                                 | 10-01-2014                        | 10-01-2014                        | 09-30-2019                        | Winston-Salem                     | Alamance                          | 36.1742                           | -79.4994                          |                                   |                                   |                                   |                                   |    NA                             | \n",
       "| AWC010002                         | Piedmont L/S Co Farm              | Joe Jones                         | Swine                             | Cattle State COC                  | Swine - Farrow to Wean            | 300                               | 0                                 | 10-01-2014                        | 10-01-2014                        | 09-30-2019                        | Winston-Salem                     | Alamance                          | 36.1742                           | -79.4994                          |                                   |                                   |                                   |                                   |    NA                             | \n",
       "| AWC010006                         | Covington Dairy Farm Inc          | William Covington                 | Cattle                            | Cattle State COC                  | Cattle - Milk Cow                 | 300                               | 1                                 | 10-01-2014                        | 10-01-2014                        | 09-30-2019                        | Winston-Salem                     | Alamance                          | 36.0442                           | -79.3261                          | 3008 S Nc119                      |                                   | Mebane                            | NC                                | 27302                             | \n",
       "| AWC010010                         | Triple W Farms                    | Harold Woody                      | Cattle                            | Cattle State COC                  | Cattle - Dairy Heifer             | 200                               | 1                                 | 03-11-2016                        | 03-11-2016                        | 09-30-2019                        | Winston-Salem                     | Alamance                          | 35.9042                           | -79.3000                          | 3545 E Greensboro-Chapel Hill Hwy |                                   | Snow Camp                         | NC                                | 27349                             | \n",
       "| AWC010010                         | Triple W Farms                    | Harold Woody                      | Cattle                            | Cattle State COC                  | Cattle - Milk Cow                 | 400                               | 1                                 | 03-11-2016                        | 03-11-2016                        | 09-30-2019                        | Winston-Salem                     | Alamance                          | 35.9042                           | -79.3000                          | 3545 E Greensboro-Chapel Hill Hwy |                                   | Snow Camp                         | NC                                | 27349                             | \n",
       "| AWC010012                         | Lindley Dairy Inc. Farm           | W Lindley                         | Cattle                            | Cattle State COC                  | Cattle - Milk Cow                 | 225                               | 1                                 | 10-01-2014                        | 10-01-2014                        | 09-30-2019                        | Winston-Salem                     | Alamance                          | 35.8997                           | -79.3306                          | 3159 E Greensboro Chapel Hill Rd  |                                   | Snow Camp                         | NC                                | 27349                             | \n",
       "\n",
       "\n"
      ],
      "text/plain": [
       "  Permit.Number Facility.Name            Combined.Owner    Regulated.Operation\n",
       "1 AWC010002     Piedmont L/S Co Farm     Joe Jones         Cattle             \n",
       "2 AWC010002     Piedmont L/S Co Farm     Joe Jones         Swine              \n",
       "3 AWC010006     Covington Dairy Farm Inc William Covington Cattle             \n",
       "4 AWC010010     Triple W Farms           Harold Woody      Cattle             \n",
       "5 AWC010010     Triple W Farms           Harold Woody      Cattle             \n",
       "6 AWC010012     Lindley Dairy Inc. Farm  W Lindley         Cattle             \n",
       "  Permit.Type      Regulated.Activity     Allowable.Count Number.Of.Lagoons\n",
       "1 Cattle State COC Cattle - Beef Feeder   300             0                \n",
       "2 Cattle State COC Swine - Farrow to Wean 300             0                \n",
       "3 Cattle State COC Cattle - Milk Cow      300             1                \n",
       "4 Cattle State COC Cattle - Dairy Heifer  200             1                \n",
       "5 Cattle State COC Cattle - Milk Cow      400             1                \n",
       "6 Cattle State COC Cattle - Milk Cow      225             1                \n",
       "  Issued.Date Effective.Date Expiration.Date Admin.Region  County.Name\n",
       "1 10-01-2014  10-01-2014     09-30-2019      Winston-Salem Alamance   \n",
       "2 10-01-2014  10-01-2014     09-30-2019      Winston-Salem Alamance   \n",
       "3 10-01-2014  10-01-2014     09-30-2019      Winston-Salem Alamance   \n",
       "4 03-11-2016  03-11-2016     09-30-2019      Winston-Salem Alamance   \n",
       "5 03-11-2016  03-11-2016     09-30-2019      Winston-Salem Alamance   \n",
       "6 10-01-2014  10-01-2014     09-30-2019      Winston-Salem Alamance   \n",
       "  Location.Lat.Num Location.Long.Num Address.1                        \n",
       "1 36.1742          -79.4994                                           \n",
       "2 36.1742          -79.4994                                           \n",
       "3 36.0442          -79.3261          3008 S Nc119                     \n",
       "4 35.9042          -79.3000          3545 E Greensboro-Chapel Hill Hwy\n",
       "5 35.9042          -79.3000          3545 E Greensboro-Chapel Hill Hwy\n",
       "6 35.8997          -79.3306          3159 E Greensboro Chapel Hill Rd \n",
       "  Address.2 City      State Zip  \n",
       "1                              NA\n",
       "2                              NA\n",
       "3           Mebane    NC    27302\n",
       "4           Snow Camp NC    27349\n",
       "5           Snow Camp NC    27349\n",
       "6           Snow Camp NC    27349"
      ]
     },
     "metadata": {},
     "output_type": "display_data"
    }
   ],
   "source": [
    "head(hogs)"
   ]
  }
 ],
 "metadata": {
  "kernelspec": {
   "display_name": "R 3.3",
   "language": "R",
   "name": "ir33"
  },
  "language_info": {
   "codemirror_mode": "r",
   "file_extension": ".r",
   "mimetype": "text/x-r-source",
   "name": "R",
   "pygments_lexer": "r",
   "version": "3.3.2"
  }
 },
 "nbformat": 4,
 "nbformat_minor": 2
}
